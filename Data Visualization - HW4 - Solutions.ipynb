{
 "cells": [
  {
   "cell_type": "code",
   "execution_count": 477,
   "metadata": {},
   "outputs": [],
   "source": [
    "import pandas as pd\n",
    "import matplotlib.pyplot as plt\n",
    "import numpy as np\n",
    "import random\n",
    "import re"
   ]
  },
  {
   "cell_type": "code",
   "execution_count": 478,
   "metadata": {},
   "outputs": [],
   "source": [
    "fiscal_data = pd.read_csv(\"Sdf16_1a.txt\", sep='\\t', low_memory=False)\n",
    "fiscal_data['LEAID'] = fiscal_data['LEAID'].astype(str)"
   ]
  },
  {
   "cell_type": "code",
   "execution_count": 479,
   "metadata": {},
   "outputs": [],
   "source": [
    "enrollment_data = pd.read_csv(\"ccd_lea_052_1516_w_1a_011717.csv\", low_memory=False)\n",
    "enrollment_data['LEAID'] = enrollment_data['LEAID'].astype(str)"
   ]
  },
  {
   "cell_type": "markdown",
   "metadata": {},
   "source": [
    "### Problem 1"
   ]
  },
  {
   "cell_type": "code",
   "execution_count": 480,
   "metadata": {},
   "outputs": [],
   "source": [
    "district_data = fiscal_data[[\"LEAID\", \"STNAME\", \"TOTALREV\", \"TOTALEXP\" ]]\n",
    "district_data = district_data[district_data['TOTALREV']>=0]\n",
    "district_data = district_data[district_data['TOTALEXP']>=0]"
   ]
  },
  {
   "cell_type": "code",
   "execution_count": 481,
   "metadata": {},
   "outputs": [
    {
     "name": "stdout",
     "output_type": "stream",
     "text": [
      "Total U.S. federal budget for funding school districts: $ 55602742000\n",
      "15% of the U.S. federal budget for funding school districts: $ 8340411300\n"
     ]
    }
   ],
   "source": [
    "federal_rev = fiscal_data[fiscal_data['TFEDREV'] >= 0]\n",
    "total_federal_rev = int(federal_rev[['TFEDREV']].sum())\n",
    "print('Total U.S. federal budget for funding school districts: $',total_federal_rev)\n",
    "total_amount_cut = int(total_federal_rev*0.15)\n",
    "print('15% of the U.S. federal budget for funding school districts: $', total_amount_cut)"
   ]
  },
  {
   "cell_type": "code",
   "execution_count": 482,
   "metadata": {},
   "outputs": [
    {
     "data": {
      "text/plain": [
       "28234151000"
      ]
     },
     "execution_count": 482,
     "metadata": {},
     "output_type": "execute_result"
    }
   ],
   "source": [
    "debt = district_data.groupby(['LEAID', 'STNAME']).sum().reset_index()\n",
    "debt['DEBT'] = debt['TOTALEXP'] - debt['TOTALREV']\n",
    "debt_neg = debt[debt['DEBT'] < 0]\n",
    "debt_neg.loc[:,'DEBT'] *= -1\n",
    "total_extra = debt_neg['DEBT'].sum()\n",
    "total_extra"
   ]
  },
  {
   "cell_type": "code",
   "execution_count": 483,
   "metadata": {},
   "outputs": [],
   "source": [
    "debt_neg.loc[:, 'REV_CUT'] = round((total_amount_cut/total_extra)*(debt_neg['DEBT']))\n",
    "revenue_cut = debt_neg[['LEAID', 'STNAME', 'REV_CUT', 'TOTALREV']]"
   ]
  },
  {
   "cell_type": "code",
   "execution_count": 627,
   "metadata": {},
   "outputs": [
    {
     "data": {
      "text/html": [
       "<div>\n",
       "<style scoped>\n",
       "    .dataframe tbody tr th:only-of-type {\n",
       "        vertical-align: middle;\n",
       "    }\n",
       "\n",
       "    .dataframe tbody tr th {\n",
       "        vertical-align: top;\n",
       "    }\n",
       "\n",
       "    .dataframe thead th {\n",
       "        text-align: right;\n",
       "    }\n",
       "</style>\n",
       "<table border=\"1\" class=\"dataframe\">\n",
       "  <thead>\n",
       "    <tr style=\"text-align: right;\">\n",
       "      <th></th>\n",
       "      <th>LEAID</th>\n",
       "      <th>STNAME</th>\n",
       "      <th>REV_CUT</th>\n",
       "      <th>TOTALREV</th>\n",
       "      <th>PROP_REV_CUT</th>\n",
       "    </tr>\n",
       "  </thead>\n",
       "  <tbody>\n",
       "    <tr>\n",
       "      <th>0</th>\n",
       "      <td>0100005</td>\n",
       "      <td>Alabama</td>\n",
       "      <td>891226.0</td>\n",
       "      <td>49795000</td>\n",
       "      <td>0.017898</td>\n",
       "    </tr>\n",
       "    <tr>\n",
       "      <th>2</th>\n",
       "      <td>0100007</td>\n",
       "      <td>Alabama</td>\n",
       "      <td>769226.0</td>\n",
       "      <td>168040000</td>\n",
       "      <td>0.004578</td>\n",
       "    </tr>\n",
       "    <tr>\n",
       "      <th>3</th>\n",
       "      <td>0100008</td>\n",
       "      <td>Alabama</td>\n",
       "      <td>1409951.0</td>\n",
       "      <td>105927000</td>\n",
       "      <td>0.013311</td>\n",
       "    </tr>\n",
       "    <tr>\n",
       "      <th>5</th>\n",
       "      <td>0100012</td>\n",
       "      <td>Alabama</td>\n",
       "      <td>118161.0</td>\n",
       "      <td>22813000</td>\n",
       "      <td>0.005180</td>\n",
       "    </tr>\n",
       "    <tr>\n",
       "      <th>7</th>\n",
       "      <td>0100030</td>\n",
       "      <td>Alabama</td>\n",
       "      <td>830669.0</td>\n",
       "      <td>32454000</td>\n",
       "      <td>0.025595</td>\n",
       "    </tr>\n",
       "  </tbody>\n",
       "</table>\n",
       "</div>"
      ],
      "text/plain": [
       "     LEAID   STNAME    REV_CUT   TOTALREV  PROP_REV_CUT\n",
       "0  0100005  Alabama   891226.0   49795000      0.017898\n",
       "2  0100007  Alabama   769226.0  168040000      0.004578\n",
       "3  0100008  Alabama  1409951.0  105927000      0.013311\n",
       "5  0100012  Alabama   118161.0   22813000      0.005180\n",
       "7  0100030  Alabama   830669.0   32454000      0.025595"
      ]
     },
     "execution_count": 627,
     "metadata": {},
     "output_type": "execute_result"
    }
   ],
   "source": [
    "revenue_cut.loc[:, 'PROP_REV_CUT'] = revenue_cut.loc[:,'REV_CUT']/revenue_cut.loc[:,'TOTALREV']\n",
    "revenue_cut.head()"
   ]
  },
  {
   "cell_type": "code",
   "execution_count": 486,
   "metadata": {},
   "outputs": [
    {
     "data": {
      "image/png": "[encoded data removed]",
      "text/plain": [
       "<Figure size 756x468 with 1 Axes>"
      ]
     },
     "metadata": {
      "needs_background": "light"
     },
     "output_type": "display_data"
    }
   ],
   "source": [
    "fig = plt.figure()\n",
    "plt.hist(revenue_cut['PROP_REV_CUT'], bins = 10)\n",
    "plt.title('Proportion of  total funding that is lost by districts')\n",
    "plt.xlabel('Proportion')\n",
    "plt.ylabel('Number of districts')\n",
    "plt.savefig('budget_cut_proportion')\n",
    "fig.set_size_inches(10.5, 6.5)\n",
    "plt.show()"
   ]
  },
  {
   "cell_type": "code",
   "execution_count": 487,
   "metadata": {},
   "outputs": [
    {
     "data": {
      "text/html": [
       "<div>\n",
       "<style scoped>\n",
       "    .dataframe tbody tr th:only-of-type {\n",
       "        vertical-align: middle;\n",
       "    }\n",
       "\n",
       "    .dataframe tbody tr th {\n",
       "        vertical-align: top;\n",
       "    }\n",
       "\n",
       "    .dataframe thead th {\n",
       "        text-align: right;\n",
       "    }\n",
       "</style>\n",
       "<table border=\"1\" class=\"dataframe\">\n",
       "  <thead>\n",
       "    <tr style=\"text-align: right;\">\n",
       "      <th></th>\n",
       "      <th>LEAID</th>\n",
       "      <th>STNAME</th>\n",
       "      <th>PROP_REV_CUT</th>\n",
       "    </tr>\n",
       "  </thead>\n",
       "  <tbody>\n",
       "    <tr>\n",
       "      <th>14403</th>\n",
       "      <td>4800191</td>\n",
       "      <td>Texas</td>\n",
       "      <td>0.295500</td>\n",
       "    </tr>\n",
       "    <tr>\n",
       "      <th>9234</th>\n",
       "      <td>3400059</td>\n",
       "      <td>New Jersey</td>\n",
       "      <td>0.295403</td>\n",
       "    </tr>\n",
       "    <tr>\n",
       "      <th>11052</th>\n",
       "      <td>3800395</td>\n",
       "      <td>North Dakota</td>\n",
       "      <td>0.295403</td>\n",
       "    </tr>\n",
       "    <tr>\n",
       "      <th>11596</th>\n",
       "      <td>3901570</td>\n",
       "      <td>Ohio</td>\n",
       "      <td>0.295402</td>\n",
       "    </tr>\n",
       "    <tr>\n",
       "      <th>14459</th>\n",
       "      <td>4800291</td>\n",
       "      <td>Texas</td>\n",
       "      <td>0.295401</td>\n",
       "    </tr>\n",
       "    <tr>\n",
       "      <th>14439</th>\n",
       "      <td>4800261</td>\n",
       "      <td>Texas</td>\n",
       "      <td>0.295401</td>\n",
       "    </tr>\n",
       "    <tr>\n",
       "      <th>14347</th>\n",
       "      <td>4800091</td>\n",
       "      <td>Texas</td>\n",
       "      <td>0.295401</td>\n",
       "    </tr>\n",
       "    <tr>\n",
       "      <th>2569</th>\n",
       "      <td>09D0001</td>\n",
       "      <td>Connecticut</td>\n",
       "      <td>0.295401</td>\n",
       "    </tr>\n",
       "    <tr>\n",
       "      <th>297</th>\n",
       "      <td>0400206</td>\n",
       "      <td>Arizona</td>\n",
       "      <td>0.295401</td>\n",
       "    </tr>\n",
       "    <tr>\n",
       "      <th>9242</th>\n",
       "      <td>3400075</td>\n",
       "      <td>New Jersey</td>\n",
       "      <td>0.295401</td>\n",
       "    </tr>\n",
       "  </tbody>\n",
       "</table>\n",
       "</div>"
      ],
      "text/plain": [
       "         LEAID        STNAME  PROP_REV_CUT\n",
       "14403  4800191         Texas      0.295500\n",
       "9234   3400059    New Jersey      0.295403\n",
       "11052  3800395  North Dakota      0.295403\n",
       "11596  3901570          Ohio      0.295402\n",
       "14459  4800291         Texas      0.295401\n",
       "14439  4800261         Texas      0.295401\n",
       "14347  4800091         Texas      0.295401\n",
       "2569   09D0001   Connecticut      0.295401\n",
       "297    0400206       Arizona      0.295401\n",
       "9242   3400075    New Jersey      0.295401"
      ]
     },
     "execution_count": 487,
     "metadata": {},
     "output_type": "execute_result"
    }
   ],
   "source": [
    "prop_rev_cut = revenue_cut[['LEAID', 'STNAME', 'PROP_REV_CUT']].sort_values(by = ['PROP_REV_CUT'], ascending = False)\n",
    "prop_rev_cut.head(10)"
   ]
  },
  {
   "cell_type": "markdown",
   "metadata": {},
   "source": [
    "As shown above, these are top 10 districts which affected the most due to cut in funding."
   ]
  },
  {
   "cell_type": "markdown",
   "metadata": {},
   "source": [
    "### Problem 2"
   ]
  },
  {
   "cell_type": "code",
   "execution_count": 488,
   "metadata": {},
   "outputs": [],
   "source": [
    "races = ['AM', 'AS','HI', 'BL', 'WH', 'HP', 'TR']\n",
    "enrollment_races = enrollment_data[['LEAID', 'TOTAL','AM', 'AS','HI', 'BL', 'WH', 'HP', 'TR']]"
   ]
  },
  {
   "cell_type": "code",
   "execution_count": 534,
   "metadata": {},
   "outputs": [
    {
     "data": {
      "text/html": [
       "<div>\n",
       "<style scoped>\n",
       "    .dataframe tbody tr th:only-of-type {\n",
       "        vertical-align: middle;\n",
       "    }\n",
       "\n",
       "    .dataframe tbody tr th {\n",
       "        vertical-align: top;\n",
       "    }\n",
       "\n",
       "    .dataframe thead th {\n",
       "        text-align: right;\n",
       "    }\n",
       "</style>\n",
       "<table border=\"1\" class=\"dataframe\">\n",
       "  <thead>\n",
       "    <tr style=\"text-align: right;\">\n",
       "      <th></th>\n",
       "      <th>LEAID</th>\n",
       "      <th>CENSUSID</th>\n",
       "      <th>FIPST</th>\n",
       "      <th>CONUM</th>\n",
       "      <th>CSA</th>\n",
       "      <th>CBSA</th>\n",
       "      <th>NAME</th>\n",
       "      <th>STNAME_x</th>\n",
       "      <th>STABBR</th>\n",
       "      <th>SCHLEV</th>\n",
       "      <th>...</th>\n",
       "      <th>FL_W01</th>\n",
       "      <th>FL_W31</th>\n",
       "      <th>FL_W61</th>\n",
       "      <th>FL_V95</th>\n",
       "      <th>FL_V02</th>\n",
       "      <th>FL_K14</th>\n",
       "      <th>FL_CE1</th>\n",
       "      <th>FL_CE2</th>\n",
       "      <th>STNAME_y</th>\n",
       "      <th>PROP_REV_CUT</th>\n",
       "    </tr>\n",
       "  </thead>\n",
       "  <tbody>\n",
       "    <tr>\n",
       "      <th>0</th>\n",
       "      <td>0100002</td>\n",
       "      <td>N</td>\n",
       "      <td>1</td>\n",
       "      <td>01073</td>\n",
       "      <td>142</td>\n",
       "      <td>13820</td>\n",
       "      <td>Alabama Youth Services</td>\n",
       "      <td>Alabama</td>\n",
       "      <td>AL</td>\n",
       "      <td>N</td>\n",
       "      <td>...</td>\n",
       "      <td>M</td>\n",
       "      <td>M</td>\n",
       "      <td>M</td>\n",
       "      <td>M</td>\n",
       "      <td>M</td>\n",
       "      <td>M</td>\n",
       "      <td>M</td>\n",
       "      <td>M</td>\n",
       "      <td>NaN</td>\n",
       "      <td>0.000000</td>\n",
       "    </tr>\n",
       "    <tr>\n",
       "      <th>1</th>\n",
       "      <td>0100005</td>\n",
       "      <td>01504840100000</td>\n",
       "      <td>1</td>\n",
       "      <td>01095</td>\n",
       "      <td>290</td>\n",
       "      <td>10700</td>\n",
       "      <td>Albertville City</td>\n",
       "      <td>Alabama</td>\n",
       "      <td>AL</td>\n",
       "      <td>03</td>\n",
       "      <td>...</td>\n",
       "      <td>R</td>\n",
       "      <td>R</td>\n",
       "      <td>R</td>\n",
       "      <td>M</td>\n",
       "      <td>M</td>\n",
       "      <td>M</td>\n",
       "      <td>M</td>\n",
       "      <td>M</td>\n",
       "      <td>Alabama</td>\n",
       "      <td>0.017898</td>\n",
       "    </tr>\n",
       "    <tr>\n",
       "      <th>2</th>\n",
       "      <td>0100006</td>\n",
       "      <td>01504800100000</td>\n",
       "      <td>1</td>\n",
       "      <td>01095</td>\n",
       "      <td>290</td>\n",
       "      <td>10700</td>\n",
       "      <td>Marshall County</td>\n",
       "      <td>Alabama</td>\n",
       "      <td>AL</td>\n",
       "      <td>03</td>\n",
       "      <td>...</td>\n",
       "      <td>R</td>\n",
       "      <td>R</td>\n",
       "      <td>R</td>\n",
       "      <td>M</td>\n",
       "      <td>M</td>\n",
       "      <td>M</td>\n",
       "      <td>M</td>\n",
       "      <td>M</td>\n",
       "      <td>NaN</td>\n",
       "      <td>0.000000</td>\n",
       "    </tr>\n",
       "    <tr>\n",
       "      <th>3</th>\n",
       "      <td>0100007</td>\n",
       "      <td>01503740100000</td>\n",
       "      <td>1</td>\n",
       "      <td>01073</td>\n",
       "      <td>142</td>\n",
       "      <td>13820</td>\n",
       "      <td>Hoover City</td>\n",
       "      <td>Alabama</td>\n",
       "      <td>AL</td>\n",
       "      <td>03</td>\n",
       "      <td>...</td>\n",
       "      <td>R</td>\n",
       "      <td>R</td>\n",
       "      <td>R</td>\n",
       "      <td>M</td>\n",
       "      <td>M</td>\n",
       "      <td>M</td>\n",
       "      <td>M</td>\n",
       "      <td>M</td>\n",
       "      <td>Alabama</td>\n",
       "      <td>0.004578</td>\n",
       "    </tr>\n",
       "    <tr>\n",
       "      <th>4</th>\n",
       "      <td>0100008</td>\n",
       "      <td>01504530100000</td>\n",
       "      <td>1</td>\n",
       "      <td>01089</td>\n",
       "      <td>290</td>\n",
       "      <td>26620</td>\n",
       "      <td>Madison City</td>\n",
       "      <td>Alabama</td>\n",
       "      <td>AL</td>\n",
       "      <td>03</td>\n",
       "      <td>...</td>\n",
       "      <td>R</td>\n",
       "      <td>R</td>\n",
       "      <td>R</td>\n",
       "      <td>M</td>\n",
       "      <td>M</td>\n",
       "      <td>M</td>\n",
       "      <td>M</td>\n",
       "      <td>M</td>\n",
       "      <td>Alabama</td>\n",
       "      <td>0.013311</td>\n",
       "    </tr>\n",
       "  </tbody>\n",
       "</table>\n",
       "<p>5 rows × 262 columns</p>\n",
       "</div>"
      ],
      "text/plain": [
       "     LEAID        CENSUSID  FIPST  CONUM  CSA   CBSA                    NAME  \\\n",
       "0  0100002               N      1  01073  142  13820  Alabama Youth Services   \n",
       "1  0100005  01504840100000      1  01095  290  10700        Albertville City   \n",
       "2  0100006  01504800100000      1  01095  290  10700         Marshall County   \n",
       "3  0100007  01503740100000      1  01073  142  13820             Hoover City   \n",
       "4  0100008  01504530100000      1  01089  290  26620            Madison City   \n",
       "\n",
       "  STNAME_x STABBR SCHLEV  ... FL_W01  FL_W31  FL_W61  FL_V95 FL_V02 FL_K14  \\\n",
       "0  Alabama     AL      N  ...      M       M       M       M      M      M   \n",
       "1  Alabama     AL     03  ...      R       R       R       M      M      M   \n",
       "2  Alabama     AL     03  ...      R       R       R       M      M      M   \n",
       "3  Alabama     AL     03  ...      R       R       R       M      M      M   \n",
       "4  Alabama     AL     03  ...      R       R       R       M      M      M   \n",
       "\n",
       "   FL_CE1  FL_CE2  STNAME_y  PROP_REV_CUT  \n",
       "0       M       M       NaN      0.000000  \n",
       "1       M       M   Alabama      0.017898  \n",
       "2       M       M       NaN      0.000000  \n",
       "3       M       M   Alabama      0.004578  \n",
       "4       M       M   Alabama      0.013311  \n",
       "\n",
       "[5 rows x 262 columns]"
      ]
     },
     "execution_count": 534,
     "metadata": {},
     "output_type": "execute_result"
    }
   ],
   "source": [
    "fiscal_rev = pd.merge(fiscal_data, prop_rev_cut, on = [\"LEAID\"], how = \"left\")\n",
    "fiscal_rev.loc[:,'PROP_REV_CUT'] = np.where(pd.isna(fiscal_rev.loc[:,'PROP_REV_CUT']), 0, fiscal_rev.loc[:,'PROP_REV_CUT'])\n",
    "fiscal_rev.head()"
   ]
  },
  {
   "cell_type": "code",
   "execution_count": 538,
   "metadata": {},
   "outputs": [],
   "source": [
    "for i in range(len(fiscal_rev)):\n",
    "    fiscal_rev.loc[i,'LEAID'] = fiscal_rev.loc[i,'LEAID'].strip(\"0\")"
   ]
  },
  {
   "cell_type": "code",
   "execution_count": 593,
   "metadata": {},
   "outputs": [
    {
     "data": {
      "text/html": [
       "<div>\n",
       "<style scoped>\n",
       "    .dataframe tbody tr th:only-of-type {\n",
       "        vertical-align: middle;\n",
       "    }\n",
       "\n",
       "    .dataframe tbody tr th {\n",
       "        vertical-align: top;\n",
       "    }\n",
       "\n",
       "    .dataframe thead th {\n",
       "        text-align: right;\n",
       "    }\n",
       "</style>\n",
       "<table border=\"1\" class=\"dataframe\">\n",
       "  <thead>\n",
       "    <tr style=\"text-align: right;\">\n",
       "      <th></th>\n",
       "      <th>LEAID</th>\n",
       "      <th>CENSUSID</th>\n",
       "      <th>FIPST</th>\n",
       "      <th>CONUM</th>\n",
       "      <th>CSA</th>\n",
       "      <th>CBSA</th>\n",
       "      <th>NAME</th>\n",
       "      <th>STNAME_x</th>\n",
       "      <th>STABBR</th>\n",
       "      <th>SCHLEV</th>\n",
       "      <th>...</th>\n",
       "      <th>STNAME_y</th>\n",
       "      <th>PROP_REV_CUT</th>\n",
       "      <th>TOTAL</th>\n",
       "      <th>AM</th>\n",
       "      <th>AS</th>\n",
       "      <th>HI</th>\n",
       "      <th>BL</th>\n",
       "      <th>WH</th>\n",
       "      <th>HP</th>\n",
       "      <th>TR</th>\n",
       "    </tr>\n",
       "  </thead>\n",
       "  <tbody>\n",
       "    <tr>\n",
       "      <th>0</th>\n",
       "      <td>100002</td>\n",
       "      <td>N</td>\n",
       "      <td>1</td>\n",
       "      <td>01073</td>\n",
       "      <td>142</td>\n",
       "      <td>13820</td>\n",
       "      <td>Alabama Youth Services</td>\n",
       "      <td>Alabama</td>\n",
       "      <td>AL</td>\n",
       "      <td>N</td>\n",
       "      <td>...</td>\n",
       "      <td>NaN</td>\n",
       "      <td>0.000000</td>\n",
       "      <td>-1.0</td>\n",
       "      <td>-1.0</td>\n",
       "      <td>-1.0</td>\n",
       "      <td>-1.0</td>\n",
       "      <td>-1.0</td>\n",
       "      <td>-1.0</td>\n",
       "      <td>-1.0</td>\n",
       "      <td>-1.0</td>\n",
       "    </tr>\n",
       "    <tr>\n",
       "      <th>1</th>\n",
       "      <td>100005</td>\n",
       "      <td>01504840100000</td>\n",
       "      <td>1</td>\n",
       "      <td>01095</td>\n",
       "      <td>290</td>\n",
       "      <td>10700</td>\n",
       "      <td>Albertville City</td>\n",
       "      <td>Alabama</td>\n",
       "      <td>AL</td>\n",
       "      <td>03</td>\n",
       "      <td>...</td>\n",
       "      <td>Alabama</td>\n",
       "      <td>0.017898</td>\n",
       "      <td>5214.0</td>\n",
       "      <td>14.0</td>\n",
       "      <td>17.0</td>\n",
       "      <td>2289.0</td>\n",
       "      <td>152.0</td>\n",
       "      <td>2619.0</td>\n",
       "      <td>4.0</td>\n",
       "      <td>119.0</td>\n",
       "    </tr>\n",
       "    <tr>\n",
       "      <th>2</th>\n",
       "      <td>100006</td>\n",
       "      <td>01504800100000</td>\n",
       "      <td>1</td>\n",
       "      <td>01095</td>\n",
       "      <td>290</td>\n",
       "      <td>10700</td>\n",
       "      <td>Marshall County</td>\n",
       "      <td>Alabama</td>\n",
       "      <td>AL</td>\n",
       "      <td>03</td>\n",
       "      <td>...</td>\n",
       "      <td>NaN</td>\n",
       "      <td>0.000000</td>\n",
       "      <td>5635.0</td>\n",
       "      <td>26.0</td>\n",
       "      <td>17.0</td>\n",
       "      <td>1160.0</td>\n",
       "      <td>50.0</td>\n",
       "      <td>4331.0</td>\n",
       "      <td>2.0</td>\n",
       "      <td>49.0</td>\n",
       "    </tr>\n",
       "    <tr>\n",
       "      <th>3</th>\n",
       "      <td>100007</td>\n",
       "      <td>01503740100000</td>\n",
       "      <td>1</td>\n",
       "      <td>01073</td>\n",
       "      <td>142</td>\n",
       "      <td>13820</td>\n",
       "      <td>Hoover City</td>\n",
       "      <td>Alabama</td>\n",
       "      <td>AL</td>\n",
       "      <td>03</td>\n",
       "      <td>...</td>\n",
       "      <td>Alabama</td>\n",
       "      <td>0.004578</td>\n",
       "      <td>13910.0</td>\n",
       "      <td>10.0</td>\n",
       "      <td>931.0</td>\n",
       "      <td>1008.0</td>\n",
       "      <td>3541.0</td>\n",
       "      <td>8131.0</td>\n",
       "      <td>14.0</td>\n",
       "      <td>275.0</td>\n",
       "    </tr>\n",
       "    <tr>\n",
       "      <th>4</th>\n",
       "      <td>100008</td>\n",
       "      <td>01504530100000</td>\n",
       "      <td>1</td>\n",
       "      <td>01089</td>\n",
       "      <td>290</td>\n",
       "      <td>26620</td>\n",
       "      <td>Madison City</td>\n",
       "      <td>Alabama</td>\n",
       "      <td>AL</td>\n",
       "      <td>03</td>\n",
       "      <td>...</td>\n",
       "      <td>Alabama</td>\n",
       "      <td>0.013311</td>\n",
       "      <td>10011.0</td>\n",
       "      <td>62.0</td>\n",
       "      <td>862.0</td>\n",
       "      <td>439.0</td>\n",
       "      <td>2042.0</td>\n",
       "      <td>6186.0</td>\n",
       "      <td>27.0</td>\n",
       "      <td>393.0</td>\n",
       "    </tr>\n",
       "  </tbody>\n",
       "</table>\n",
       "<p>5 rows × 270 columns</p>\n",
       "</div>"
      ],
      "text/plain": [
       "    LEAID        CENSUSID  FIPST  CONUM  CSA   CBSA                    NAME  \\\n",
       "0  100002               N      1  01073  142  13820  Alabama Youth Services   \n",
       "1  100005  01504840100000      1  01095  290  10700        Albertville City   \n",
       "2  100006  01504800100000      1  01095  290  10700         Marshall County   \n",
       "3  100007  01503740100000      1  01073  142  13820             Hoover City   \n",
       "4  100008  01504530100000      1  01089  290  26620            Madison City   \n",
       "\n",
       "  STNAME_x STABBR SCHLEV  ... STNAME_y  PROP_REV_CUT    TOTAL    AM     AS  \\\n",
       "0  Alabama     AL      N  ...      NaN      0.000000     -1.0  -1.0   -1.0   \n",
       "1  Alabama     AL     03  ...  Alabama      0.017898   5214.0  14.0   17.0   \n",
       "2  Alabama     AL     03  ...      NaN      0.000000   5635.0  26.0   17.0   \n",
       "3  Alabama     AL     03  ...  Alabama      0.004578  13910.0  10.0  931.0   \n",
       "4  Alabama     AL     03  ...  Alabama      0.013311  10011.0  62.0  862.0   \n",
       "\n",
       "       HI      BL      WH    HP     TR  \n",
       "0    -1.0    -1.0    -1.0  -1.0   -1.0  \n",
       "1  2289.0   152.0  2619.0   4.0  119.0  \n",
       "2  1160.0    50.0  4331.0   2.0   49.0  \n",
       "3  1008.0  3541.0  8131.0  14.0  275.0  \n",
       "4   439.0  2042.0  6186.0  27.0  393.0  \n",
       "\n",
       "[5 rows x 270 columns]"
      ]
     },
     "execution_count": 593,
     "metadata": {},
     "output_type": "execute_result"
    }
   ],
   "source": [
    "fiscal_enroll = pd.merge(fiscal_rev, enrollment_races, on = [\"LEAID\"], how ='left')\n",
    "fiscal_enroll.head()"
   ]
  },
  {
   "cell_type": "code",
   "execution_count": 588,
   "metadata": {},
   "outputs": [],
   "source": [
    "fiscal_enroll_norevcut = fiscal_enroll[fiscal_enroll['PROP_REV_CUT'] == 0]\n",
    "fiscal_enroll_revcut = fiscal_enroll[fiscal_enroll['PROP_REV_CUT'] > 0]"
   ]
  },
  {
   "cell_type": "code",
   "execution_count": 589,
   "metadata": {},
   "outputs": [],
   "source": [
    "races=['AM', 'AS','HI', 'BL', 'WH', 'HP', 'TR', 'TOTAL']\n",
    "fiscal_enroll_norevcut = fiscal_enroll_norevcut[races].sum()\n",
    "fiscal_enroll_revcut = fiscal_enroll_revcut[races].sum()\n",
    "for each_race in races[:-1]:\n",
    "    fiscal_enroll_norevcut[each_race + '_'] = fiscal_enroll_norevcut[each_race] / fiscal_enroll_norevcut[races[-1]]\n",
    "    fiscal_enroll_revcut[each_race + '_'] = fiscal_enroll_revcut[each_race] / fiscal_enroll_revcut[races[-1]]"
   ]
  },
  {
   "cell_type": "code",
   "execution_count": 591,
   "metadata": {
    "scrolled": true
   },
   "outputs": [
    {
     "data": {
      "image/png": "[encoded data removed]",
      "text/plain": [
       "<Figure size 720x360 with 2 Axes>"
      ]
     },
     "metadata": {
      "needs_background": "light"
     },
     "output_type": "display_data"
    }
   ],
   "source": [
    "plt.figure(figsize=(10,5))\n",
    "plt.subplot(1, 2, 1)\n",
    "plt.bar(fiscal_enroll_norevcut.index[8:], fiscal_enroll_norevcut[8:])\n",
    "plt.title('No Revenue Cut')\n",
    "plt.xlabel('Race')\n",
    "plt.ylabel('Proportion of race with no revenue cut')\n",
    "plt.subplot(1, 2, 2)\n",
    "plt.bar(fiscal_enroll_revcut.index[8:], fiscal_enroll_revcut[8:])\n",
    "plt.title('Revenue Cut')\n",
    "plt.xlabel('Race')\n",
    "plt.ylabel('Proportion of race with revenue cut')\n",
    "plt.show()"
   ]
  },
  {
   "cell_type": "markdown",
   "metadata": {},
   "source": [
    "The distributions appear to be different for districts that received budgets cuts and for districts that did not receive any budget cuts based on the races.\n",
    "As we can see, the distribution of proportion of people recieving revenue cuts for all races are different from proportion of people not receiving budget cuts for all races. We can also see that, based on caste, revenue cuts are not spread out evenly and districts with a large number of people belonging to WH race would have higher chances of receiving a busget cut. This unsimilarity in distribution of proportions shows that there has been bias introduced in calculations which has resulted in these numbers."
   ]
  },
  {
   "cell_type": "markdown",
   "metadata": {},
   "source": [
    "### Problem 3"
   ]
  },
  {
   "cell_type": "code",
   "execution_count": 614,
   "metadata": {},
   "outputs": [
    {
     "data": {
      "text/html": [
       "<div>\n",
       "<style scoped>\n",
       "    .dataframe tbody tr th:only-of-type {\n",
       "        vertical-align: middle;\n",
       "    }\n",
       "\n",
       "    .dataframe tbody tr th {\n",
       "        vertical-align: top;\n",
       "    }\n",
       "\n",
       "    .dataframe thead th {\n",
       "        text-align: right;\n",
       "    }\n",
       "</style>\n",
       "<table border=\"1\" class=\"dataframe\">\n",
       "  <thead>\n",
       "    <tr style=\"text-align: right;\">\n",
       "      <th></th>\n",
       "      <th>SURVYEAR</th>\n",
       "      <th>FIPST</th>\n",
       "      <th>STABR</th>\n",
       "      <th>STATENAME</th>\n",
       "      <th>SEANAME</th>\n",
       "      <th>LEAID</th>\n",
       "      <th>ST_LEAID</th>\n",
       "      <th>LEA_NAME</th>\n",
       "      <th>SPECED</th>\n",
       "    </tr>\n",
       "  </thead>\n",
       "  <tbody>\n",
       "    <tr>\n",
       "      <th>0</th>\n",
       "      <td>2015-2016</td>\n",
       "      <td>1</td>\n",
       "      <td>AL</td>\n",
       "      <td>ALABAMA</td>\n",
       "      <td>Alabama Department Of Education</td>\n",
       "      <td>100002</td>\n",
       "      <td>210</td>\n",
       "      <td>Alabama Youth Services</td>\n",
       "      <td>24</td>\n",
       "    </tr>\n",
       "    <tr>\n",
       "      <th>1</th>\n",
       "      <td>2015-2016</td>\n",
       "      <td>1</td>\n",
       "      <td>AL</td>\n",
       "      <td>ALABAMA</td>\n",
       "      <td>Alabama Department Of Education</td>\n",
       "      <td>100005</td>\n",
       "      <td>101</td>\n",
       "      <td>Albertville City</td>\n",
       "      <td>267</td>\n",
       "    </tr>\n",
       "    <tr>\n",
       "      <th>2</th>\n",
       "      <td>2015-2016</td>\n",
       "      <td>1</td>\n",
       "      <td>AL</td>\n",
       "      <td>ALABAMA</td>\n",
       "      <td>Alabama Department Of Education</td>\n",
       "      <td>100006</td>\n",
       "      <td>048</td>\n",
       "      <td>Marshall County</td>\n",
       "      <td>430</td>\n",
       "    </tr>\n",
       "    <tr>\n",
       "      <th>3</th>\n",
       "      <td>2015-2016</td>\n",
       "      <td>1</td>\n",
       "      <td>AL</td>\n",
       "      <td>ALABAMA</td>\n",
       "      <td>Alabama Department Of Education</td>\n",
       "      <td>100007</td>\n",
       "      <td>158</td>\n",
       "      <td>Hoover City</td>\n",
       "      <td>861</td>\n",
       "    </tr>\n",
       "    <tr>\n",
       "      <th>4</th>\n",
       "      <td>2015-2016</td>\n",
       "      <td>1</td>\n",
       "      <td>AL</td>\n",
       "      <td>ALABAMA</td>\n",
       "      <td>Alabama Department Of Education</td>\n",
       "      <td>100008</td>\n",
       "      <td>169</td>\n",
       "      <td>Madison City</td>\n",
       "      <td>735</td>\n",
       "    </tr>\n",
       "  </tbody>\n",
       "</table>\n",
       "</div>"
      ],
      "text/plain": [
       "    SURVYEAR  FIPST STABR STATENAME                          SEANAME   LEAID  \\\n",
       "0  2015-2016      1    AL   ALABAMA  Alabama Department Of Education  100002   \n",
       "1  2015-2016      1    AL   ALABAMA  Alabama Department Of Education  100005   \n",
       "2  2015-2016      1    AL   ALABAMA  Alabama Department Of Education  100006   \n",
       "3  2015-2016      1    AL   ALABAMA  Alabama Department Of Education  100007   \n",
       "4  2015-2016      1    AL   ALABAMA  Alabama Department Of Education  100008   \n",
       "\n",
       "  ST_LEAID                LEA_NAME  SPECED  \n",
       "0      210  Alabama Youth Services      24  \n",
       "1      101        Albertville City     267  \n",
       "2      048         Marshall County     430  \n",
       "3      158             Hoover City     861  \n",
       "4      169            Madison City     735  "
      ]
     },
     "execution_count": 614,
     "metadata": {},
     "output_type": "execute_result"
    }
   ],
   "source": [
    "disable_data = pd.read_csv('ccd_lea_002089_1516_w_1a_011717.csv')\n",
    "disable_data['LEAID'] = disable_data['LEAID'].astype(str)\n",
    "disable_data.head()"
   ]
  },
  {
   "cell_type": "code",
   "execution_count": null,
   "metadata": {},
   "outputs": [],
   "source": [
    "disable_rev = pd.merge(fiscal_rev, disable_data, on='LEAID', how=\"left\")"
   ]
  },
  {
   "cell_type": "code",
   "execution_count": 625,
   "metadata": {},
   "outputs": [],
   "source": [
    "def disable_cuts(data, rev_cut = True):\n",
    "    if rev_cut == True:\n",
    "        df = data[data['PROP_REV_CUT'] > 0]\n",
    "    else:\n",
    "        df = data[data['PROP_REV_CUT'] == 0]\n",
    "    df = df[['V33', 'SPECED']]\n",
    "    df['NOSPECED'] = df['V33'] - df['SPECED']\n",
    "    df = df.sum()\n",
    "    df['NOSPECED_PROP'] = df['NOSPECED'] / df['V33']\n",
    "    df['SPECEDR_PROP'] = df['SPECED'] / df['V33']\n",
    "    return df"
   ]
  },
  {
   "cell_type": "code",
   "execution_count": 626,
   "metadata": {},
   "outputs": [
    {
     "data": {
      "image/png": "[encoded data removed]",
      "text/plain": [
       "<Figure size 720x360 with 2 Axes>"
      ]
     },
     "metadata": {
      "needs_background": "light"
     },
     "output_type": "display_data"
    }
   ],
   "source": [
    "plt.figure(figsize=(10,5))\n",
    "plt.subplot(1, 2, 1)\n",
    "plt.bar(['Not disabled', 'Disabled'], disable_cuts(disable_rev, rev_cut=False)[3:5])\n",
    "plt.title('No Revenue Cut')\n",
    "plt.xlabel('Race')\n",
    "plt.ylabel('Proportion of race with no revenue cut')\n",
    "plt.subplot(1, 2, 2)\n",
    "plt.bar(['Not disabled', 'Disabled'], disable_cuts(disable_rev, rev_cut=True)[3:5])\n",
    "plt.title('Revenue Cut')\n",
    "plt.xlabel('Race')\n",
    "plt.ylabel('Proportion of race with revenue cut')\n",
    "plt.show()"
   ]
  },
  {
   "cell_type": "markdown",
   "metadata": {},
   "source": [
    "The distributions appear to be the same for districts that received budgets cuts and for districts that did not receive any budget cuts based on the disability factor.\n",
    "As we can see, the proportion of people who are not disabled and receiving revenue cuts is higher than those not receiving any budget cuts. Also, there are higher proportions of disabled people not receving budget cuts than those which receive budget cuts. This similarity in distribution of proportions shows that there has not been any bias introduced in calculations which has resulted in an unbiased solution."
   ]
  },
  {
   "cell_type": "markdown",
   "metadata": {},
   "source": [
    "### Problem 4"
   ]
  },
  {
   "cell_type": "markdown",
   "metadata": {},
   "source": [
    "I chose Devanshi Gariba's strategy for budget cuts. She has used the idea of not cutting equal amounts from each of the school districts, instead cut revenue according to the proportion of current revenue and expenditure. This is justified because some school districts might earn less and some might earn more. Deduction of equal amount of budget would be unfair to school districts with lower revenue. She also considered only those school districts which have a positive funding after taking into account their revenue and expenditure. This is also a beneficial point and adds to better results. One disadvantage of this method is that only the monitary features were taken into consideration. It might help remove bias if any, by taking additional features like demographics into account.\n",
    "An additional check she did was to check if the budget cut from different school districts actually add up to how much of a cut is required. This was a well thought of step as it could avoid cutting budgets unnecessarily."
   ]
  },
  {
   "cell_type": "markdown",
   "metadata": {},
   "source": [
    "### Problem 5"
   ]
  },
  {
   "cell_type": "markdown",
   "metadata": {},
   "source": [
    "The most interesting special lecture topic I found was the MapReduce lecture by Jan Vitek. He gave a brief understanding about MapReduce and how it is implemented at a basic level. He also gave light on the history of MapReduce and Big data. It was very informational as big data is the talk of the town. In our coursework, we don not generally get to work with large datasets, whereas almost every big company would have very large datasets to deal with. I understood the need to be aware of such technology and concepts which could help in faster and better processing or big data. Parallelization of processes would also help increase efficiency and is made possible by using MapReduce concepts. "
   ]
  }
 ],
 "metadata": {
  "kernelspec": {
   "display_name": "Python 3",
   "language": "python",
   "name": "python3"
  },
  "language_info": {
   "codemirror_mode": {
    "name": "ipython",
    "version": 3
   },
   "file_extension": ".py",
   "mimetype": "text/x-python",
   "name": "python",
   "nbconvert_exporter": "python",
   "pygments_lexer": "ipython3",
   "version": "3.7.0"
  }
 },
 "nbformat": 4,
 "nbformat_minor": 2
}
